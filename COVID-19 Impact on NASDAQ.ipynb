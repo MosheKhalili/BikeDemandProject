{
 "cells": [
  {
   "cell_type": "markdown",
   "metadata": {},
   "source": [
    "'''Proposal:\n",
    "    Topic:  Analyze the impact of pandemic on the NASDAQ.\n",
    "    Detail: We will be doing a technical analysis of the NASDAQ. \n",
    "    We will be scraping data from Yahoo Finance retrieve data on the stocks \n",
    "    from 01/01/2020 through now. For this data, we will use matplotlib to\n",
    "    visualize the data and track the changes of stock price before and after the pandemic. \n",
    "    We will get data such as P/E ratio from the past and forward P/E to expect \n",
    "    the PE ratio in a year, earning per share (EPS) to understand the value of their shares,\n",
    "    price to earnings growth ratio (PEG Ratio) to compare the companies’\n",
    "    PE ratio to their expected rate of growth, and return on equity which will help us \n",
    "    measure the profitability of a company related to their shareholders’ equity to\n",
    "    understand the NASDAQ during this period.\n",
    "'''\n"
   ]
  },
  {
   "cell_type": "code",
   "execution_count": 12,
   "metadata": {},
   "outputs": [],
   "source": [
    "#Import Libraries needed\n",
    "import requests\n",
    "import pandas\n",
    "import numpy as np\n",
    "from bs4 import BeautifulSoup\n",
    "from openpyxl import Workbook\n"
   ]
  },
  {
   "cell_type": "markdown",
   "metadata": {},
   "source": [
    "# Part 1"
   ]
  },
  {
   "cell_type": "code",
   "execution_count": 13,
   "metadata": {},
   "outputs": [],
   "source": [
    "#We use the workbook function to convert data to an Excel file\n",
    "wb=Workbook()\n",
    "ws=wb.active\n",
    "title=['Date','Open','High','Low','Close','Adj Close','Volumn']\n",
    "ws.append(title)"
   ]
  },
  {
   "cell_type": "code",
   "execution_count": 14,
   "metadata": {},
   "outputs": [],
   "source": [
    "#We web scrape the data here from Yahoo Finance of the stock price from 01/01/2020 to now.\n",
    "url='https://finance.yahoo.com/quote/%5EIXIC/history?period1=1577836800&period2=1635984000&interval=1wk&filter=history&frequency=1wk&includeAdjustedClose=true'\n",
    "header={\n",
    "    'user-agent': 'Mozilla/5.0 (Windows NT 10.0; Win64; x64) AppleWebKit/537.36 (KHTML, like Gecko) Chrome/94.0.4606.71 Safari/537.36 Edg/94.0.992.38'\n",
    "}\n",
    "datas={\n",
    "    'ajax':'true',\n",
    "    'mobile':'false'\n",
    "}\n",
    "file=[]\n",
    "r=requests.get(url,headers=header,data=datas)\n",
    "html_soup=BeautifulSoup(r.text,'html.parser')"
   ]
  },
  {
   "cell_type": "code",
   "execution_count": 15,
   "metadata": {},
   "outputs": [],
   "source": [
    "#Each day has 7 rows of data, so here we set up the 7 rows as a list and add to our excel file.\n",
    "y=0\n",
    "\n",
    "for x in html_soup.find_all('td'):\n",
    "    if y<7:\n",
    "        content=x.get_text()\n",
    "        file.append(content)\n",
    "        if y!=6:\n",
    "            y+=1\n",
    "        else:\n",
    "            ws.append(file)\n",
    "            y=0\n",
    "            file.clear()\n",
    "    else:\n",
    "        print('')"
   ]
  },
  {
   "cell_type": "code",
   "execution_count": 16,
   "metadata": {},
   "outputs": [],
   "source": [
    "wb.save('his_data.xlsx')"
   ]
  },
  {
   "cell_type": "code",
   "execution_count": 17,
   "metadata": {
    "scrolled": true
   },
   "outputs": [
    {
     "name": "stdout",
     "output_type": "stream",
     "text": [
      "                     num\n",
      "Trailing P/E      22.93%\n",
      "Foward P/E        214.96\n",
      "PEG Ratio         123.90\n",
      "Diluted EPS        1.06B\n",
      "Return on Equity    322M\n"
     ]
    }
   ],
   "source": [
    "#Here we retrieve common statistics to help us understand the NASDAQ\n",
    "url2='https://finance.yahoo.com/quote/NDAQ/key-statistics?p=NDAQ'\n",
    "header2={\n",
    "    'User-Agent': 'Mozilla/5.0 (Windows NT 10.0; Win64; x64) AppleWebKit/537.36 (KHTML, like Gecko) Chrome/94.0.4606.81 Safari/537.36 Edg/94.0.992.50'\n",
    "}\n",
    "r2=requests.get(url2,headers=header2)\n",
    "html_soup2=BeautifulSoup(r2.text,'html.parser')\n",
    "stock={\n",
    "    'Trailing P/E': html_soup2.find_all('td',class_='Fw(500) Ta(end) Pstart(10px) Miw(60px)')[2].text,\n",
    "    'Foward P/E': html_soup2.find_all('td',class_='Fw(500) Ta(end) Pstart(10px) Miw(60px)')[3].text,\n",
    "    'PEG Ratio': html_soup2.find_all('td',class_='Fw(500) Ta(end) Pstart(10px) Miw(60px)')[4].text,\n",
    "    'Diluted EPS': html_soup2.find_all('td',class_='Fw(500) Ta(end) Pstart(10px) Miw(60px)')[50].text,\n",
    "    'Return on Equity': html_soup2.find_all('td',class_='Fw(500) Ta(end) Pstart(10px) Miw(60px)')[43].text\n",
    "}\n",
    "s=pandas.DataFrame.from_dict(stock,orient='index')\n",
    "statistics=s.rename(columns={0:'num'})\n",
    "print(statistics)"
   ]
  },
  {
   "cell_type": "markdown",
   "metadata": {},
   "source": [
    "# Part 2"
   ]
  },
  {
   "cell_type": "code",
   "execution_count": 18,
   "metadata": {
    "scrolled": false
   },
   "outputs": [
    {
     "name": "stdout",
     "output_type": "stream",
     "text": [
      "            Date       Open       High        Low      Close  Adj Close  \\\n",
      "0   Nov 02, 2021  15,658.52  15,821.57  15,616.44  15,811.58  15,811.58   \n",
      "1   Oct 26, 2021  15,276.00  15,656.60  15,235.84  15,649.60  15,649.60   \n",
      "2   Oct 19, 2021  15,160.00  15,384.00  15,021.02  15,235.71  15,235.71   \n",
      "3   Oct 12, 2021  14,537.17  15,137.85  14,471.88  15,129.09  15,129.09   \n",
      "4   Oct 05, 2021  14,289.45  14,755.72  14,259.07  14,465.92  14,465.92   \n",
      "..           ...        ...        ...        ...        ...        ...   \n",
      "92  Jan 29, 2020   9,318.26   9,485.38   9,123.22   9,467.97   9,467.97   \n",
      "93  Jan 22, 2020   9,413.61   9,451.43   9,088.04   9,269.68   9,269.68   \n",
      "94  Jan 15, 2020   9,253.76   9,397.58   9,231.14   9,370.81   9,370.81   \n",
      "95  Jan 08, 2020   9,068.03   9,298.33   9,059.38   9,251.33   9,251.33   \n",
      "96  Jan 01, 2020   9,039.46   9,093.43   8,943.50   9,068.58   9,068.58   \n",
      "\n",
      "            Volumn  \n",
      "0    5,274,520,000  \n",
      "1   27,411,610,000  \n",
      "2   27,399,530,000  \n",
      "3   21,332,430,000  \n",
      "4   19,496,860,000  \n",
      "..             ...  \n",
      "92  12,108,750,000  \n",
      "93  12,262,310,000  \n",
      "94   9,944,260,000  \n",
      "95  12,450,220,000  \n",
      "96  10,556,740,000  \n",
      "\n",
      "[97 rows x 7 columns]\n"
     ]
    }
   ],
   "source": [
    "#We use pandas here to read the data from the excel file and convert it into dataframe\n",
    "pd=pandas.read_excel('his_data.xlsx')\n",
    "df=pandas.DataFrame(pd)\n",
    "print(df)\n"
   ]
  },
  {
   "cell_type": "code",
   "execution_count": 19,
   "metadata": {
    "scrolled": true
   },
   "outputs": [
    {
     "name": "stdout",
     "output_type": "stream",
     "text": [
      "Nov 02, 2021\n",
      "Oct 26, 2021\n",
      "Oct 19, 2021\n",
      "Oct 12, 2021\n",
      "Oct 05, 2021\n",
      "Aug 31, 2021\n",
      "Aug 24, 2021\n",
      "Aug 17, 2021\n",
      "Aug 03, 2021\n",
      "Jul 27, 2021\n",
      "Jul 20, 2021\n",
      "Jun 29, 2021\n",
      "Jun 22, 2021\n",
      "Jun 15, 2021\n",
      "Jun 08, 2021\n",
      "Jun 01, 2021\n",
      "May 25, 2021\n",
      "May 18, 2021\n",
      "May 11, 2021\n",
      "Apr 20, 2021\n",
      "Apr 06, 2021\n",
      "Mar 30, 2021\n",
      "Mar 10, 2021\n",
      "Feb 03, 2021\n",
      "Jan 27, 2021\n",
      "Jan 20, 2021\n",
      "Jan 13, 2021\n",
      "Jan 06, 2021\n",
      "Dec 23, 2020\n",
      "Dec 16, 2020\n",
      "Dec 09, 2020\n",
      "Dec 02, 2020\n",
      "Nov 25, 2020\n",
      "Nov 18, 2020\n",
      "Nov 11, 2020\n",
      "Nov 04, 2020\n",
      "Oct 06, 2020\n",
      "Sep 29, 2020\n",
      "Sep 22, 2020\n",
      "Sep 08, 2020\n",
      "Aug 25, 2020\n",
      "Aug 18, 2020\n",
      "Aug 11, 2020\n",
      "Jul 28, 2020\n",
      "Jul 14, 2020\n",
      "Jul 07, 2020\n",
      "Jun 30, 2020\n",
      "Jun 09, 2020\n",
      "Jun 02, 2020\n",
      "May 26, 2020\n",
      "May 19, 2020\n",
      "May 12, 2020\n",
      "May 05, 2020\n",
      "Apr 28, 2020\n",
      "Apr 21, 2020\n",
      "Apr 07, 2020\n",
      "Mar 31, 2020\n",
      "Mar 24, 2020\n",
      "Mar 17, 2020\n",
      "Feb 12, 2020\n",
      "Feb 05, 2020\n",
      "Jan 29, 2020\n",
      "Jan 15, 2020\n",
      "Jan 08, 2020\n",
      "Jan 01, 2020\n"
     ]
    }
   ],
   "source": [
    "#We can find out which dates close price was more than its Open price\n",
    "open_arr=np.array(df.Open)\n",
    "close_arr=np.array(df.Close)\n",
    "for n in range(len(open_arr)):\n",
    "    if close_arr[n]>open_arr[n]:\n",
    "        print(df.Date[n])"
   ]
  },
  {
   "cell_type": "markdown",
   "metadata": {},
   "source": [
    "# Part 4"
   ]
  },
  {
   "cell_type": "code",
   "execution_count": 21,
   "metadata": {
    "scrolled": false
   },
   "outputs": [
    {
     "data": {
      "text/plain": [
       "0         NaN\n",
       "1    0.019952\n",
       "2    0.012832\n",
       "3   -0.010851\n",
       "4    0.021166\n",
       "Name: Close, dtype: float64"
      ]
     },
     "execution_count": 21,
     "metadata": {},
     "output_type": "execute_result"
    }
   ],
   "source": [
    "datass=pandas.read_csv('NASDAQ.csv')\n",
    "df_stock=pandas.DataFrame(datass)\n",
    "close_price=df_stock['Close']\n",
    "nasdaq_return=np.log(close_price).diff()\n",
    "nasdaq_return.head()"
   ]
  },
  {
   "cell_type": "code",
   "execution_count": 22,
   "metadata": {
    "scrolled": true
   },
   "outputs": [
    {
     "data": {
      "text/plain": [
       "<AxesSubplot:>"
      ]
     },
     "execution_count": 22,
     "metadata": {},
     "output_type": "execute_result"
    },
    {
     "data": {
      "image/png": "[encoded data removed]",
      "text/plain": [
       "<Figure size 432x288 with 1 Axes>"
      ]
     },
     "metadata": {
      "needs_background": "light"
     },
     "output_type": "display_data"
    }
   ],
   "source": [
    "#Visualize data\n",
    "nasdaq_return.plot()"
   ]
  },
  {
   "cell_type": "code",
   "execution_count": 23,
   "metadata": {},
   "outputs": [
    {
     "data": {
      "text/plain": [
       "count    97.000000\n",
       "mean      0.005731\n",
       "std       0.029805\n",
       "min      -0.128945\n",
       "25%      -0.007934\n",
       "50%       0.010569\n",
       "75%       0.023127\n",
       "max       0.076667\n",
       "Name: Close, dtype: float64"
      ]
     },
     "execution_count": 23,
     "metadata": {},
     "output_type": "execute_result"
    }
   ],
   "source": [
    "nasdaq_return.describe()"
   ]
  },
  {
   "cell_type": "code",
   "execution_count": 24,
   "metadata": {
    "scrolled": false
   },
   "outputs": [
    {
     "data": {
      "image/png": "[encoded data removed]",
      "text/plain": [
       "<Figure size 576x648 with 1 Axes>"
      ]
     },
     "metadata": {
      "needs_background": "light"
     },
     "output_type": "display_data"
    }
   ],
   "source": [
    "import matplotlib.pyplot as plt\n",
    "import matplotlib.dates as mdates\n",
    "import datetime as dt\n",
    "pd=pandas.read_excel('his_data.xlsx')\n",
    "df=pandas.DataFrame(pd)\n",
    "\n",
    "\n",
    "\n",
    "open_price=[]\n",
    "for num in df['Open']:\n",
    "    x=num.replace(',','')\n",
    "    numeric=float(x)\n",
    "    open_price.append(numeric)\n",
    "    \n",
    "close_price=[]\n",
    "for a in df['Close']:\n",
    "    y=a.replace(',','')\n",
    "    numbers=float(y)\n",
    "    close_price.append(numbers)\n",
    "\n",
    "dates=list(df['Date'])\n",
    "\n",
    "date=[dt.datetime.strptime(d,\"%b %d, %Y\").date() for d in dates]\n",
    "\n",
    "\n",
    "plt.title(label='NASDAQ stock prices since 01/01/2020')\n",
    "plt.plot(date,open_price,label='Open price')\n",
    "plt.plot(date,close_price, label='Close price')\n",
    "plt.legend(loc=\"upper left\")\n",
    "plt.gcf().set_size_inches(8,9)\n",
    "plt.show()"
   ]
  },
  {
   "cell_type": "markdown",
   "metadata": {},
   "source": [
    "As we can see from our visualizations since the rise of the COVID-19 pandemic the NASDAQ rebounded very strongly from the low point of March 2020 to record highs in October of 2021."
   ]
  },
  {
   "cell_type": "markdown",
   "metadata": {},
   "source": [
    "# Reference"
   ]
  },
  {
   "cell_type": "code",
   "execution_count": null,
   "metadata": {},
   "outputs": [],
   "source": [
    "'''\n",
    "https://finance.yahoo.com/quote/%5EIXIC/history?period1=1577836800&period2=1633824000&interval=1wk&filter=history&frequency=1wk&includeAdjustedClose=true\n",
    "https://finance.yahoo.com/quote/NDAQ/key-statistics?p=NDAQ\n",
    "https://pandas.pydata.org/docs/reference/api/pandas.DataFrame.from_dict.html\n",
    "https://pandas.pydata.org/docs/reference/api/pandas.DataFrame.rename.html\n",
    "https://openpyxl.readthedocs.io/en/stable/\n",
    "'''"
   ]
  }
 ],
 "metadata": {
  "kernelspec": {
   "display_name": "Python 3",
   "language": "python",
   "name": "python3"
  },
  "language_info": {
   "codemirror_mode": {
    "name": "ipython",
    "version": 3
   },
   "file_extension": ".py",
   "mimetype": "text/x-python",
   "name": "python",
   "nbconvert_exporter": "python",
   "pygments_lexer": "ipython3",
   "version": "3.8.5"
  }
 },
 "nbformat": 4,
 "nbformat_minor": 5
}
