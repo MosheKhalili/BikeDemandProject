{
 "cells": [
  {
   "cell_type": "markdown",
   "metadata": {},
   "source": [
    "We are going to predict the demand for bikes in the capitalbikeshare system\n",
    "\n",
    "Steps: \n",
    "1) Retreiving and reading the data\n",
    "\n",
    "2) Preliminary analysis of the data and drop obvious features\n",
    "\n",
    "3) visualize the data\n",
    "\n",
    "4) Check multiple linear regression assumptions\n",
    "\n",
    "5) Drop irrelevent features\n",
    "\n",
    "6) create/modify more features\n",
    "\n",
    "7) Create dummy variables\n",
    "\n",
    "8) train and test split\n",
    "\n",
    "9) fit and score the model\n",
    "\n",
    "10) present the results"
   ]
  },
  {
   "cell_type": "code",
   "execution_count": 1,
   "metadata": {},
   "outputs": [],
   "source": [
    "# Step 0 - import libraries\n",
    "import pandas as pd\n",
    "import matplotlib.pyplot as plt\n",
    "import numpy as np\n",
    "import math"
   ]
  },
  {
   "cell_type": "markdown",
   "metadata": {},
   "source": [
    "# Step 1 - Read Data using Pandas"
   ]
  },
  {
   "cell_type": "code",
   "execution_count": 2,
   "metadata": {},
   "outputs": [
    {
     "data": {
      "text/html": [
       "<div>\n",
       "<style scoped>\n",
       "    .dataframe tbody tr th:only-of-type {\n",
       "        vertical-align: middle;\n",
       "    }\n",
       "\n",
       "    .dataframe tbody tr th {\n",
       "        vertical-align: top;\n",
       "    }\n",
       "\n",
       "    .dataframe thead th {\n",
       "        text-align: right;\n",
       "    }\n",
       "</style>\n",
       "<table border=\"1\" class=\"dataframe\">\n",
       "  <thead>\n",
       "    <tr style=\"text-align: right;\">\n",
       "      <th></th>\n",
       "      <th>index</th>\n",
       "      <th>date</th>\n",
       "      <th>season</th>\n",
       "      <th>year</th>\n",
       "      <th>month</th>\n",
       "      <th>hour</th>\n",
       "      <th>holiday</th>\n",
       "      <th>weekday</th>\n",
       "      <th>workingday</th>\n",
       "      <th>weather</th>\n",
       "      <th>temp</th>\n",
       "      <th>atemp</th>\n",
       "      <th>humidity</th>\n",
       "      <th>windspeed</th>\n",
       "      <th>casual</th>\n",
       "      <th>registered</th>\n",
       "      <th>demand</th>\n",
       "    </tr>\n",
       "  </thead>\n",
       "  <tbody>\n",
       "    <tr>\n",
       "      <th>0</th>\n",
       "      <td>1</td>\n",
       "      <td>01-01-2011</td>\n",
       "      <td>1</td>\n",
       "      <td>0</td>\n",
       "      <td>1</td>\n",
       "      <td>0</td>\n",
       "      <td>0</td>\n",
       "      <td>6</td>\n",
       "      <td>0</td>\n",
       "      <td>1</td>\n",
       "      <td>0.24</td>\n",
       "      <td>0.2879</td>\n",
       "      <td>0.81</td>\n",
       "      <td>0.0</td>\n",
       "      <td>3</td>\n",
       "      <td>13</td>\n",
       "      <td>16</td>\n",
       "    </tr>\n",
       "    <tr>\n",
       "      <th>1</th>\n",
       "      <td>2</td>\n",
       "      <td>01-01-2011</td>\n",
       "      <td>1</td>\n",
       "      <td>0</td>\n",
       "      <td>1</td>\n",
       "      <td>1</td>\n",
       "      <td>0</td>\n",
       "      <td>6</td>\n",
       "      <td>0</td>\n",
       "      <td>1</td>\n",
       "      <td>0.22</td>\n",
       "      <td>0.2727</td>\n",
       "      <td>0.80</td>\n",
       "      <td>0.0</td>\n",
       "      <td>8</td>\n",
       "      <td>32</td>\n",
       "      <td>40</td>\n",
       "    </tr>\n",
       "    <tr>\n",
       "      <th>2</th>\n",
       "      <td>3</td>\n",
       "      <td>01-01-2011</td>\n",
       "      <td>1</td>\n",
       "      <td>0</td>\n",
       "      <td>1</td>\n",
       "      <td>2</td>\n",
       "      <td>0</td>\n",
       "      <td>6</td>\n",
       "      <td>0</td>\n",
       "      <td>1</td>\n",
       "      <td>0.22</td>\n",
       "      <td>0.2727</td>\n",
       "      <td>0.80</td>\n",
       "      <td>0.0</td>\n",
       "      <td>5</td>\n",
       "      <td>27</td>\n",
       "      <td>32</td>\n",
       "    </tr>\n",
       "    <tr>\n",
       "      <th>3</th>\n",
       "      <td>4</td>\n",
       "      <td>01-01-2011</td>\n",
       "      <td>1</td>\n",
       "      <td>0</td>\n",
       "      <td>1</td>\n",
       "      <td>3</td>\n",
       "      <td>0</td>\n",
       "      <td>6</td>\n",
       "      <td>0</td>\n",
       "      <td>1</td>\n",
       "      <td>0.24</td>\n",
       "      <td>0.2879</td>\n",
       "      <td>0.75</td>\n",
       "      <td>0.0</td>\n",
       "      <td>3</td>\n",
       "      <td>10</td>\n",
       "      <td>13</td>\n",
       "    </tr>\n",
       "    <tr>\n",
       "      <th>4</th>\n",
       "      <td>5</td>\n",
       "      <td>01-01-2011</td>\n",
       "      <td>1</td>\n",
       "      <td>0</td>\n",
       "      <td>1</td>\n",
       "      <td>4</td>\n",
       "      <td>0</td>\n",
       "      <td>6</td>\n",
       "      <td>0</td>\n",
       "      <td>1</td>\n",
       "      <td>0.24</td>\n",
       "      <td>0.2879</td>\n",
       "      <td>0.75</td>\n",
       "      <td>0.0</td>\n",
       "      <td>0</td>\n",
       "      <td>1</td>\n",
       "      <td>1</td>\n",
       "    </tr>\n",
       "  </tbody>\n",
       "</table>\n",
       "</div>"
      ],
      "text/plain": [
       "   index        date  season  year  month  hour  holiday  weekday  workingday  \\\n",
       "0      1  01-01-2011       1     0      1     0        0        6           0   \n",
       "1      2  01-01-2011       1     0      1     1        0        6           0   \n",
       "2      3  01-01-2011       1     0      1     2        0        6           0   \n",
       "3      4  01-01-2011       1     0      1     3        0        6           0   \n",
       "4      5  01-01-2011       1     0      1     4        0        6           0   \n",
       "\n",
       "   weather  temp   atemp  humidity  windspeed  casual  registered  demand  \n",
       "0        1  0.24  0.2879      0.81        0.0       3          13      16  \n",
       "1        1  0.22  0.2727      0.80        0.0       8          32      40  \n",
       "2        1  0.22  0.2727      0.80        0.0       5          27      32  \n",
       "3        1  0.24  0.2879      0.75        0.0       3          10      13  \n",
       "4        1  0.24  0.2879      0.75        0.0       0           1       1  "
      ]
     },
     "execution_count": 2,
     "metadata": {},
     "output_type": "execute_result"
    }
   ],
   "source": [
    "bikes = pd.read_csv('hour.csv')\n",
    "bikes.head()"
   ]
  },
  {
   "cell_type": "markdown",
   "metadata": {},
   "source": [
    "# Step 2 - Premliminary analysis and reature selection\n"
   ]
  },
  {
   "cell_type": "code",
   "execution_count": 3,
   "metadata": {},
   "outputs": [
    {
     "data": {
      "text/html": [
       "<div>\n",
       "<style scoped>\n",
       "    .dataframe tbody tr th:only-of-type {\n",
       "        vertical-align: middle;\n",
       "    }\n",
       "\n",
       "    .dataframe tbody tr th {\n",
       "        vertical-align: top;\n",
       "    }\n",
       "\n",
       "    .dataframe thead th {\n",
       "        text-align: right;\n",
       "    }\n",
       "</style>\n",
       "<table border=\"1\" class=\"dataframe\">\n",
       "  <thead>\n",
       "    <tr style=\"text-align: right;\">\n",
       "      <th></th>\n",
       "      <th>season</th>\n",
       "      <th>year</th>\n",
       "      <th>month</th>\n",
       "      <th>hour</th>\n",
       "      <th>holiday</th>\n",
       "      <th>weekday</th>\n",
       "      <th>workingday</th>\n",
       "      <th>weather</th>\n",
       "      <th>temp</th>\n",
       "      <th>atemp</th>\n",
       "      <th>humidity</th>\n",
       "      <th>windspeed</th>\n",
       "      <th>demand</th>\n",
       "    </tr>\n",
       "  </thead>\n",
       "  <tbody>\n",
       "    <tr>\n",
       "      <th>0</th>\n",
       "      <td>1</td>\n",
       "      <td>0</td>\n",
       "      <td>1</td>\n",
       "      <td>0</td>\n",
       "      <td>0</td>\n",
       "      <td>6</td>\n",
       "      <td>0</td>\n",
       "      <td>1</td>\n",
       "      <td>0.24</td>\n",
       "      <td>0.2879</td>\n",
       "      <td>0.81</td>\n",
       "      <td>0.0</td>\n",
       "      <td>16</td>\n",
       "    </tr>\n",
       "    <tr>\n",
       "      <th>1</th>\n",
       "      <td>1</td>\n",
       "      <td>0</td>\n",
       "      <td>1</td>\n",
       "      <td>1</td>\n",
       "      <td>0</td>\n",
       "      <td>6</td>\n",
       "      <td>0</td>\n",
       "      <td>1</td>\n",
       "      <td>0.22</td>\n",
       "      <td>0.2727</td>\n",
       "      <td>0.80</td>\n",
       "      <td>0.0</td>\n",
       "      <td>40</td>\n",
       "    </tr>\n",
       "    <tr>\n",
       "      <th>2</th>\n",
       "      <td>1</td>\n",
       "      <td>0</td>\n",
       "      <td>1</td>\n",
       "      <td>2</td>\n",
       "      <td>0</td>\n",
       "      <td>6</td>\n",
       "      <td>0</td>\n",
       "      <td>1</td>\n",
       "      <td>0.22</td>\n",
       "      <td>0.2727</td>\n",
       "      <td>0.80</td>\n",
       "      <td>0.0</td>\n",
       "      <td>32</td>\n",
       "    </tr>\n",
       "    <tr>\n",
       "      <th>3</th>\n",
       "      <td>1</td>\n",
       "      <td>0</td>\n",
       "      <td>1</td>\n",
       "      <td>3</td>\n",
       "      <td>0</td>\n",
       "      <td>6</td>\n",
       "      <td>0</td>\n",
       "      <td>1</td>\n",
       "      <td>0.24</td>\n",
       "      <td>0.2879</td>\n",
       "      <td>0.75</td>\n",
       "      <td>0.0</td>\n",
       "      <td>13</td>\n",
       "    </tr>\n",
       "    <tr>\n",
       "      <th>4</th>\n",
       "      <td>1</td>\n",
       "      <td>0</td>\n",
       "      <td>1</td>\n",
       "      <td>4</td>\n",
       "      <td>0</td>\n",
       "      <td>6</td>\n",
       "      <td>0</td>\n",
       "      <td>1</td>\n",
       "      <td>0.24</td>\n",
       "      <td>0.2879</td>\n",
       "      <td>0.75</td>\n",
       "      <td>0.0</td>\n",
       "      <td>1</td>\n",
       "    </tr>\n",
       "  </tbody>\n",
       "</table>\n",
       "</div>"
      ],
      "text/plain": [
       "   season  year  month  hour  holiday  weekday  workingday  weather  temp  \\\n",
       "0       1     0      1     0        0        6           0        1  0.24   \n",
       "1       1     0      1     1        0        6           0        1  0.22   \n",
       "2       1     0      1     2        0        6           0        1  0.22   \n",
       "3       1     0      1     3        0        6           0        1  0.24   \n",
       "4       1     0      1     4        0        6           0        1  0.24   \n",
       "\n",
       "    atemp  humidity  windspeed  demand  \n",
       "0  0.2879      0.81        0.0      16  \n",
       "1  0.2727      0.80        0.0      40  \n",
       "2  0.2727      0.80        0.0      32  \n",
       "3  0.2879      0.75        0.0      13  \n",
       "4  0.2879      0.75        0.0       1  "
      ]
     },
     "execution_count": 3,
     "metadata": {},
     "output_type": "execute_result"
    }
   ],
   "source": [
    "#drop unnecessary data using \"drop\" meathod\n",
    "bikes_prep = bikes.copy()\n",
    "bikes_prep = bikes_prep.drop(['index','date','casual', 'registered'], axis = 1)\n",
    "bikes_prep.head()"
   ]
  },
  {
   "cell_type": "code",
   "execution_count": 4,
   "metadata": {},
   "outputs": [
    {
     "data": {
      "text/plain": [
       "season        0\n",
       "year          0\n",
       "month         0\n",
       "hour          0\n",
       "holiday       0\n",
       "weekday       0\n",
       "workingday    0\n",
       "weather       0\n",
       "temp          0\n",
       "atemp         0\n",
       "humidity      0\n",
       "windspeed     0\n",
       "demand        0\n",
       "dtype: int64"
      ]
     },
     "execution_count": 4,
     "metadata": {},
     "output_type": "execute_result"
    }
   ],
   "source": [
    "#check for missing values\n",
    "bikes_prep.isnull().sum()\n",
    "#no missing data"
   ]
  },
  {
   "cell_type": "markdown",
   "metadata": {},
   "source": [
    "# Step 3 - Visualizations\n"
   ]
  },
  {
   "cell_type": "code",
   "execution_count": 5,
   "metadata": {},
   "outputs": [
    {
     "data": {
      "image/png": "[encoded data removed]",
      "text/plain": [
       "<Figure size 432x288 with 16 Axes>"
      ]
     },
     "metadata": {
      "needs_background": "light"
     },
     "output_type": "display_data"
    }
   ],
   "source": [
    "#visualize the data using pandas histogram\n",
    "bikes_prep.hist(rwidth = 0.9)\n",
    "#the histograms overlaps so we use plt.tight_layout to organize\n",
    "plt.tight_layout()"
   ]
  },
  {
   "cell_type": "code",
   "execution_count": 6,
   "metadata": {},
   "outputs": [
    {
     "data": {
      "image/png": "[encoded data removed]",
      "text/plain": [
       "<Figure size 432x288 with 4 Axes>"
      ]
     },
     "metadata": {
      "needs_background": "light"
     },
     "output_type": "display_data"
    }
   ],
   "source": [
    "#visualize the continuous features vs demand\n",
    "plt.subplot(2, 2, 1)\n",
    "plt.title('Temperature Vs Demand')\n",
    "plt.scatter(bikes_prep['temp'], bikes_prep['demand'], s = 2, c = 'g')\n",
    "\n",
    "plt.subplot(2, 2, 2)\n",
    "plt.title('atemp Vs Demand')\n",
    "plt.scatter(bikes_prep['atemp'], bikes_prep['demand'], s = 2, c = 'b')\n",
    "\n",
    "plt.subplot(2, 2, 3)\n",
    "plt.title('Humidity Vs Demand')\n",
    "plt.scatter(bikes_prep['humidity'], bikes_prep['demand'], s = 2, c = 'm')\n",
    "\n",
    "plt.subplot(2, 2, 4)\n",
    "plt.title('Windspeed Vs Demand')\n",
    "plt.scatter(bikes_prep['windspeed'], bikes_prep['demand'], s = 2, c = 'c')\n",
    "\n",
    "plt.tight_layout()"
   ]
  },
  {
   "cell_type": "code",
   "execution_count": 7,
   "metadata": {},
   "outputs": [
    {
     "data": {
      "image/png": "[encoded data removed]",
      "text/plain": [
       "<Figure size 432x288 with 8 Axes>"
      ]
     },
     "metadata": {
      "needs_background": "light"
     },
     "output_type": "display_data"
    }
   ],
   "source": [
    "#Plot the categorical features vs demand\n",
    "\n",
    "# Create a 3 X 3 subplot\n",
    "plt.subplot(3,3,1)\n",
    "plt.title('Average Demand per Season')\n",
    "\n",
    "#Create a list of unique seasons's values\n",
    "cat_list = bikes_prep['season'].unique()\n",
    "\n",
    "# Create average demand per season using 'groupby'\n",
    "cat_average = bikes_prep.groupby('season').mean()['demand']\n",
    "\n",
    "colors = ['g', 'r', 'm', 'b']\n",
    "plt.bar(cat_list, cat_average, color = colors)\n",
    "\n",
    "\n",
    "plt.subplot(3,3,2)\n",
    "plt.title('Average Demand per Month')\n",
    "\n",
    "#Create a list of unique Month values\n",
    "cat_list = bikes_prep['month'].unique()\n",
    "\n",
    "# Create average demand per month using 'groupby'\n",
    "cat_average = bikes_prep.groupby('month').mean()['demand']\n",
    "\n",
    "colors = ['g', 'r', 'm', 'b']\n",
    "plt.bar(cat_list, cat_average, color = colors)\n",
    "\n",
    "\n",
    "plt.subplot(3,3,3)\n",
    "plt.title('Average Demand per Holiday')\n",
    "\n",
    "#Create a list of unique holiday values\n",
    "cat_list = bikes_prep['holiday'].unique()\n",
    "\n",
    "# Create average demand per holiday using 'groupby'\n",
    "cat_average = bikes_prep.groupby('holiday').mean()['demand']\n",
    "\n",
    "colors = ['g', 'r', 'm', 'b']\n",
    "plt.bar(cat_list, cat_average, color = colors)\n",
    "          \n",
    "\n",
    "plt.subplot(3,3,4)\n",
    "plt.title('Average Demand per Weekday')\n",
    "\n",
    "#Create a list of unique weekday values\n",
    "cat_list = bikes_prep['weekday'].unique()\n",
    "\n",
    "# Create average demand per weekday using 'groupby'\n",
    "cat_average = bikes_prep.groupby('weekday').mean()['demand']\n",
    "\n",
    "colors = ['g', 'r', 'm', 'b']\n",
    "plt.bar(cat_list, cat_average, color = colors)\n",
    "          \n",
    "\n",
    "plt.subplot(3,3,5)\n",
    "plt.title('Average Demand per year')\n",
    "\n",
    "#Create a list of unique year values\n",
    "cat_list = bikes_prep['year'].unique()\n",
    "\n",
    "# Create average demand per year using 'groupby'\n",
    "cat_average = bikes_prep.groupby('year').mean()['demand']\n",
    "\n",
    "colors = ['g', 'r', 'm', 'b']\n",
    "plt.bar(cat_list, cat_average, color = colors)\n",
    "\n",
    "\n",
    "plt.subplot(3,3,6)\n",
    "plt.title('Average Demand per hour')\n",
    "\n",
    "#Create a list of unique hour values\n",
    "cat_list = bikes_prep['hour'].unique()\n",
    "\n",
    "# Create average demand per hour using 'groupby'\n",
    "cat_average = bikes_prep.groupby('hour').mean()['demand']\n",
    "\n",
    "colors = ['g', 'r', 'm', 'b']\n",
    "plt.bar(cat_list, cat_average, color = colors)\n",
    "\n",
    "plt.subplot(3,3,7)\n",
    "plt.title('Average Demand per Workingday')\n",
    "\n",
    "#Create a list of unique workingday values\n",
    "cat_list = bikes_prep['workingday'].unique()\n",
    "\n",
    "# Create average demand per workingday using 'groupby'\n",
    "cat_average = bikes_prep.groupby('workingday').mean()['demand']\n",
    "\n",
    "colors = ['g', 'r', 'm', 'b']\n",
    "plt.bar(cat_list, cat_average, color = colors)\n",
    "\n",
    "plt.subplot(3,3,8)\n",
    "plt.title('Average Demand per Weather')\n",
    "\n",
    "#Create a list of unique weather values\n",
    "cat_list = bikes_prep['weather'].unique()\n",
    "\n",
    "# Create average demand per weather using 'groupby'\n",
    "cat_average = bikes_prep.groupby('weather').mean()['demand']\n",
    "\n",
    "colors = ['g', 'r', 'm', 'b']\n",
    "plt.bar(cat_list, cat_average, color = colors)\n",
    "plt.tight_layout()"
   ]
  },
  {
   "cell_type": "markdown",
   "metadata": {},
   "source": [
    "Features that can be dropped:\n",
    " - weekday: there is no differnce in demand depending on the weekday therefore it is not needed\n",
    " - Year: we are only limited to two years of data therefore it is not strong data\n",
    " - workingday: there is no change in demand whether it is a workingday or weekend\n",
    " "
   ]
  },
  {
   "cell_type": "markdown",
   "metadata": {},
   "source": [
    "# Data Visualization Results\n",
    " - the demand is not normally distributed\n",
    " - Temperature and demand appear to have direct correlation\n",
    " - The plot for temp and atemp appear almost identical\n",
    " - Humidity and wind speed affect demand\n",
    " further analysis is needed\n",
    " \n",
    " We see there is variation in demand based on: \n",
    " - season\n",
    " - month\n",
    " - Holiday\n",
    " - Hour\n",
    " - Weather\n",
    " \n",
    "there was no significant change in demand due to weekday or working day\n",
    "Year-wise growth pattern not considered due to limited number of years\n"
   ]
  },
  {
   "cell_type": "markdown",
   "metadata": {},
   "source": [
    "# Check for outliers"
   ]
  },
  {
   "cell_type": "code",
   "execution_count": 8,
   "metadata": {},
   "outputs": [
    {
     "data": {
      "text/plain": [
       "count    17379.000000\n",
       "mean       189.463088\n",
       "std        181.387599\n",
       "min          1.000000\n",
       "25%         40.000000\n",
       "50%        142.000000\n",
       "75%        281.000000\n",
       "max        977.000000\n",
       "Name: demand, dtype: float64"
      ]
     },
     "execution_count": 8,
     "metadata": {},
     "output_type": "execute_result"
    }
   ],
   "source": [
    "#Use the \".describe()\" function to see common statistics of \"demand\"\n",
    "bikes_prep['demand'].describe()\n"
   ]
  },
  {
   "cell_type": "code",
   "execution_count": 9,
   "metadata": {},
   "outputs": [
    {
     "data": {
      "text/plain": [
       "0.05      5.00\n",
       "0.10      9.00\n",
       "0.15     16.00\n",
       "0.90    451.20\n",
       "0.95    563.10\n",
       "0.99    782.22\n",
       "Name: demand, dtype: float64"
      ]
     },
     "execution_count": 9,
     "metadata": {},
     "output_type": "execute_result"
    }
   ],
   "source": [
    "bikes_prep['demand'].quantile([0.05, 0.1, 0.15, 0.9, 0.95, 0.99])"
   ]
  },
  {
   "cell_type": "markdown",
   "metadata": {},
   "source": [
    "#  Step 4 - Check Multiple Linear Regression Assumptions\n"
   ]
  },
  {
   "cell_type": "code",
   "execution_count": 10,
   "metadata": {},
   "outputs": [
    {
     "name": "stdout",
     "output_type": "stream",
     "text": [
      "               temp     atemp  humidity  windspeed    demand\n",
      "temp       1.000000  0.987672 -0.069881  -0.023125  0.404772\n",
      "atemp      0.987672  1.000000 -0.051918  -0.062336  0.400929\n",
      "humidity  -0.069881 -0.051918  1.000000  -0.290105 -0.322911\n",
      "windspeed -0.023125 -0.062336 -0.290105   1.000000  0.093234\n",
      "demand     0.404772  0.400929 -0.322911   0.093234  1.000000\n"
     ]
    }
   ],
   "source": [
    "#Linearity using correlation coefficient matrix using 'corr()'\n",
    "correlation = bikes_prep[['temp', 'atemp', 'humidity', 'windspeed','demand']].corr()\n",
    "print(correlation)"
   ]
  },
  {
   "cell_type": "markdown",
   "metadata": {},
   "source": [
    "According to this matrix atemp and windspeed can be dropped."
   ]
  },
  {
   "cell_type": "code",
   "execution_count": 11,
   "metadata": {},
   "outputs": [
    {
     "data": {
      "text/plain": [
       "(array([-12, -11, -10,  -9,  -8,  -7,  -6,  -5,  -4,  -3,  -2,  -1,   0,\n",
       "          1,   2,   3,   4,   5,   6,   7,   8,   9,  10,  11,  12]),\n",
       " array([0.45474693, 0.47049534, 0.4962279 , 0.49404034, 0.46795917,\n",
       "        0.4773202 , 0.5267575 , 0.5914572 , 0.6520155 , 0.7151952 ,\n",
       "        0.8059098 , 0.92530924, 1.        , 0.92530924, 0.8059098 ,\n",
       "        0.7151952 , 0.6520155 , 0.5914572 , 0.5267575 , 0.4773202 ,\n",
       "        0.46795917, 0.49404034, 0.4962279 , 0.47049534, 0.45474693],\n",
       "       dtype=float32),\n",
       " <matplotlib.collections.LineCollection at 0x1d7f086d0d0>,\n",
       " <matplotlib.lines.Line2D at 0x1d7f05afa60>)"
      ]
     },
     "execution_count": 11,
     "metadata": {},
     "output_type": "execute_result"
    },
    {
     "data": {
      "image/png": "[encoded data removed]",
      "text/plain": [
       "<Figure size 432x288 with 1 Axes>"
      ]
     },
     "metadata": {
      "needs_background": "light"
     },
     "output_type": "display_data"
    }
   ],
   "source": [
    "#check the autocorrelation in demand using \"accor\"\n",
    "df1 = pd.to_numeric(bikes_prep['demand'], downcast = 'float')\n",
    "plt.acorr(df1, maxlags = 12)"
   ]
  },
  {
   "cell_type": "markdown",
   "metadata": {},
   "source": [
    "There is high autocrrelation for the demand feature\n",
    "\n",
    "From the Data Visualization results we see that demand is not normal distributed\n",
    "\n",
    "To fix this we convert the values to their \"log normal distribution\""
   ]
  },
  {
   "cell_type": "markdown",
   "metadata": {},
   "source": [
    "# Step 6 - Create/Modify new features"
   ]
  },
  {
   "cell_type": "code",
   "execution_count": 12,
   "metadata": {
    "scrolled": true
   },
   "outputs": [
    {
     "data": {
      "text/plain": [
       "<AxesSubplot:>"
      ]
     },
     "execution_count": 12,
     "metadata": {},
     "output_type": "execute_result"
    },
    {
     "data": {
      "image/png": "[encoded data removed]",
      "text/plain": [
       "<Figure size 432x288 with 1 Axes>"
      ]
     },
     "metadata": {
      "needs_background": "light"
     },
     "output_type": "display_data"
    },
    {
     "data": {
      "image/png": "[encoded data removed]",
      "text/plain": [
       "<Figure size 432x288 with 1 Axes>"
      ]
     },
     "metadata": {
      "needs_background": "light"
     },
     "output_type": "display_data"
    }
   ],
   "source": [
    "#log normalise the feature demand\n",
    "df1 = bikes_prep['demand']\n",
    "\n",
    "#to convert values to their log values we use numpy's 'log' function\n",
    "df2 = np.log(df1)\n",
    "\n",
    "plt.figure()\n",
    "df1.hist(rwidth = 0.9,bins = 20)\n",
    "\n",
    "plt.figure()\n",
    "df2.hist(rwidth = 0.9,bins = 20)"
   ]
  },
  {
   "cell_type": "code",
   "execution_count": 13,
   "metadata": {},
   "outputs": [],
   "source": [
    "#convert 'demand' to log \n",
    "bikes_prep['demand'] = np.log(bikes_prep['demand'])"
   ]
  },
  {
   "cell_type": "code",
   "execution_count": 14,
   "metadata": {},
   "outputs": [
    {
     "data": {
      "text/html": [
       "<div>\n",
       "<style scoped>\n",
       "    .dataframe tbody tr th:only-of-type {\n",
       "        vertical-align: middle;\n",
       "    }\n",
       "\n",
       "    .dataframe tbody tr th {\n",
       "        vertical-align: top;\n",
       "    }\n",
       "\n",
       "    .dataframe thead th {\n",
       "        text-align: right;\n",
       "    }\n",
       "</style>\n",
       "<table border=\"1\" class=\"dataframe\">\n",
       "  <thead>\n",
       "    <tr style=\"text-align: right;\">\n",
       "      <th></th>\n",
       "      <th>season</th>\n",
       "      <th>year</th>\n",
       "      <th>month</th>\n",
       "      <th>hour</th>\n",
       "      <th>holiday</th>\n",
       "      <th>weekday</th>\n",
       "      <th>workingday</th>\n",
       "      <th>weather</th>\n",
       "      <th>temp</th>\n",
       "      <th>atemp</th>\n",
       "      <th>humidity</th>\n",
       "      <th>windspeed</th>\n",
       "      <th>demand</th>\n",
       "      <th>t-1</th>\n",
       "      <th>t-2</th>\n",
       "      <th>t-3</th>\n",
       "    </tr>\n",
       "  </thead>\n",
       "  <tbody>\n",
       "    <tr>\n",
       "      <th>0</th>\n",
       "      <td>1</td>\n",
       "      <td>0</td>\n",
       "      <td>1</td>\n",
       "      <td>0</td>\n",
       "      <td>0</td>\n",
       "      <td>6</td>\n",
       "      <td>0</td>\n",
       "      <td>1</td>\n",
       "      <td>0.24</td>\n",
       "      <td>0.2879</td>\n",
       "      <td>0.81</td>\n",
       "      <td>0.0</td>\n",
       "      <td>2.772589</td>\n",
       "      <td>NaN</td>\n",
       "      <td>NaN</td>\n",
       "      <td>NaN</td>\n",
       "    </tr>\n",
       "    <tr>\n",
       "      <th>1</th>\n",
       "      <td>1</td>\n",
       "      <td>0</td>\n",
       "      <td>1</td>\n",
       "      <td>1</td>\n",
       "      <td>0</td>\n",
       "      <td>6</td>\n",
       "      <td>0</td>\n",
       "      <td>1</td>\n",
       "      <td>0.22</td>\n",
       "      <td>0.2727</td>\n",
       "      <td>0.80</td>\n",
       "      <td>0.0</td>\n",
       "      <td>3.688879</td>\n",
       "      <td>2.772589</td>\n",
       "      <td>2.772589</td>\n",
       "      <td>2.772589</td>\n",
       "    </tr>\n",
       "    <tr>\n",
       "      <th>2</th>\n",
       "      <td>1</td>\n",
       "      <td>0</td>\n",
       "      <td>1</td>\n",
       "      <td>2</td>\n",
       "      <td>0</td>\n",
       "      <td>6</td>\n",
       "      <td>0</td>\n",
       "      <td>1</td>\n",
       "      <td>0.22</td>\n",
       "      <td>0.2727</td>\n",
       "      <td>0.80</td>\n",
       "      <td>0.0</td>\n",
       "      <td>3.465736</td>\n",
       "      <td>3.688879</td>\n",
       "      <td>3.688879</td>\n",
       "      <td>3.688879</td>\n",
       "    </tr>\n",
       "    <tr>\n",
       "      <th>3</th>\n",
       "      <td>1</td>\n",
       "      <td>0</td>\n",
       "      <td>1</td>\n",
       "      <td>3</td>\n",
       "      <td>0</td>\n",
       "      <td>6</td>\n",
       "      <td>0</td>\n",
       "      <td>1</td>\n",
       "      <td>0.24</td>\n",
       "      <td>0.2879</td>\n",
       "      <td>0.75</td>\n",
       "      <td>0.0</td>\n",
       "      <td>2.564949</td>\n",
       "      <td>3.465736</td>\n",
       "      <td>3.465736</td>\n",
       "      <td>3.465736</td>\n",
       "    </tr>\n",
       "    <tr>\n",
       "      <th>4</th>\n",
       "      <td>1</td>\n",
       "      <td>0</td>\n",
       "      <td>1</td>\n",
       "      <td>4</td>\n",
       "      <td>0</td>\n",
       "      <td>6</td>\n",
       "      <td>0</td>\n",
       "      <td>1</td>\n",
       "      <td>0.24</td>\n",
       "      <td>0.2879</td>\n",
       "      <td>0.75</td>\n",
       "      <td>0.0</td>\n",
       "      <td>0.000000</td>\n",
       "      <td>2.564949</td>\n",
       "      <td>2.564949</td>\n",
       "      <td>2.564949</td>\n",
       "    </tr>\n",
       "  </tbody>\n",
       "</table>\n",
       "</div>"
      ],
      "text/plain": [
       "   season  year  month  hour  holiday  weekday  workingday  weather  temp  \\\n",
       "0       1     0      1     0        0        6           0        1  0.24   \n",
       "1       1     0      1     1        0        6           0        1  0.22   \n",
       "2       1     0      1     2        0        6           0        1  0.22   \n",
       "3       1     0      1     3        0        6           0        1  0.24   \n",
       "4       1     0      1     4        0        6           0        1  0.24   \n",
       "\n",
       "    atemp  humidity  windspeed    demand       t-1       t-2       t-3  \n",
       "0  0.2879      0.81        0.0  2.772589       NaN       NaN       NaN  \n",
       "1  0.2727      0.80        0.0  3.688879  2.772589  2.772589  2.772589  \n",
       "2  0.2727      0.80        0.0  3.465736  3.688879  3.688879  3.688879  \n",
       "3  0.2879      0.75        0.0  2.564949  3.465736  3.465736  3.465736  \n",
       "4  0.2879      0.75        0.0  0.000000  2.564949  2.564949  2.564949  "
      ]
     },
     "execution_count": 14,
     "metadata": {},
     "output_type": "execute_result"
    }
   ],
   "source": [
    "#autocorrelation in the demand column\n",
    "t_1 = bikes_prep['demand'].shift(+1).to_frame()\n",
    "t_1.columns = ['t-1']\n",
    "\n",
    "t_2 = bikes_prep['demand'].shift(+1).to_frame()\n",
    "t_2.columns = ['t-2']\n",
    "\n",
    "t_3 = bikes_prep['demand'].shift(+1).to_frame()\n",
    "t_3.columns = ['t-3']\n",
    "\n",
    "bikes_prep_lag = pd.concat([bikes_prep, t_1, t_2, t_3], axis = 1)\n",
    "\n",
    "bikes_prep_lag.head()"
   ]
  },
  {
   "cell_type": "code",
   "execution_count": 15,
   "metadata": {},
   "outputs": [
    {
     "data": {
      "text/html": [
       "<div>\n",
       "<style scoped>\n",
       "    .dataframe tbody tr th:only-of-type {\n",
       "        vertical-align: middle;\n",
       "    }\n",
       "\n",
       "    .dataframe tbody tr th {\n",
       "        vertical-align: top;\n",
       "    }\n",
       "\n",
       "    .dataframe thead th {\n",
       "        text-align: right;\n",
       "    }\n",
       "</style>\n",
       "<table border=\"1\" class=\"dataframe\">\n",
       "  <thead>\n",
       "    <tr style=\"text-align: right;\">\n",
       "      <th></th>\n",
       "      <th>season</th>\n",
       "      <th>year</th>\n",
       "      <th>month</th>\n",
       "      <th>hour</th>\n",
       "      <th>holiday</th>\n",
       "      <th>weekday</th>\n",
       "      <th>workingday</th>\n",
       "      <th>weather</th>\n",
       "      <th>temp</th>\n",
       "      <th>atemp</th>\n",
       "      <th>humidity</th>\n",
       "      <th>windspeed</th>\n",
       "      <th>demand</th>\n",
       "      <th>t-1</th>\n",
       "      <th>t-2</th>\n",
       "      <th>t-3</th>\n",
       "    </tr>\n",
       "  </thead>\n",
       "  <tbody>\n",
       "    <tr>\n",
       "      <th>1</th>\n",
       "      <td>1</td>\n",
       "      <td>0</td>\n",
       "      <td>1</td>\n",
       "      <td>1</td>\n",
       "      <td>0</td>\n",
       "      <td>6</td>\n",
       "      <td>0</td>\n",
       "      <td>1</td>\n",
       "      <td>0.22</td>\n",
       "      <td>0.2727</td>\n",
       "      <td>0.80</td>\n",
       "      <td>0.0000</td>\n",
       "      <td>3.688879</td>\n",
       "      <td>2.772589</td>\n",
       "      <td>2.772589</td>\n",
       "      <td>2.772589</td>\n",
       "    </tr>\n",
       "    <tr>\n",
       "      <th>2</th>\n",
       "      <td>1</td>\n",
       "      <td>0</td>\n",
       "      <td>1</td>\n",
       "      <td>2</td>\n",
       "      <td>0</td>\n",
       "      <td>6</td>\n",
       "      <td>0</td>\n",
       "      <td>1</td>\n",
       "      <td>0.22</td>\n",
       "      <td>0.2727</td>\n",
       "      <td>0.80</td>\n",
       "      <td>0.0000</td>\n",
       "      <td>3.465736</td>\n",
       "      <td>3.688879</td>\n",
       "      <td>3.688879</td>\n",
       "      <td>3.688879</td>\n",
       "    </tr>\n",
       "    <tr>\n",
       "      <th>3</th>\n",
       "      <td>1</td>\n",
       "      <td>0</td>\n",
       "      <td>1</td>\n",
       "      <td>3</td>\n",
       "      <td>0</td>\n",
       "      <td>6</td>\n",
       "      <td>0</td>\n",
       "      <td>1</td>\n",
       "      <td>0.24</td>\n",
       "      <td>0.2879</td>\n",
       "      <td>0.75</td>\n",
       "      <td>0.0000</td>\n",
       "      <td>2.564949</td>\n",
       "      <td>3.465736</td>\n",
       "      <td>3.465736</td>\n",
       "      <td>3.465736</td>\n",
       "    </tr>\n",
       "    <tr>\n",
       "      <th>4</th>\n",
       "      <td>1</td>\n",
       "      <td>0</td>\n",
       "      <td>1</td>\n",
       "      <td>4</td>\n",
       "      <td>0</td>\n",
       "      <td>6</td>\n",
       "      <td>0</td>\n",
       "      <td>1</td>\n",
       "      <td>0.24</td>\n",
       "      <td>0.2879</td>\n",
       "      <td>0.75</td>\n",
       "      <td>0.0000</td>\n",
       "      <td>0.000000</td>\n",
       "      <td>2.564949</td>\n",
       "      <td>2.564949</td>\n",
       "      <td>2.564949</td>\n",
       "    </tr>\n",
       "    <tr>\n",
       "      <th>5</th>\n",
       "      <td>1</td>\n",
       "      <td>0</td>\n",
       "      <td>1</td>\n",
       "      <td>5</td>\n",
       "      <td>0</td>\n",
       "      <td>6</td>\n",
       "      <td>0</td>\n",
       "      <td>2</td>\n",
       "      <td>0.24</td>\n",
       "      <td>0.2576</td>\n",
       "      <td>0.75</td>\n",
       "      <td>0.0896</td>\n",
       "      <td>0.000000</td>\n",
       "      <td>0.000000</td>\n",
       "      <td>0.000000</td>\n",
       "      <td>0.000000</td>\n",
       "    </tr>\n",
       "  </tbody>\n",
       "</table>\n",
       "</div>"
      ],
      "text/plain": [
       "   season  year  month  hour  holiday  weekday  workingday  weather  temp  \\\n",
       "1       1     0      1     1        0        6           0        1  0.22   \n",
       "2       1     0      1     2        0        6           0        1  0.22   \n",
       "3       1     0      1     3        0        6           0        1  0.24   \n",
       "4       1     0      1     4        0        6           0        1  0.24   \n",
       "5       1     0      1     5        0        6           0        2  0.24   \n",
       "\n",
       "    atemp  humidity  windspeed    demand       t-1       t-2       t-3  \n",
       "1  0.2727      0.80     0.0000  3.688879  2.772589  2.772589  2.772589  \n",
       "2  0.2727      0.80     0.0000  3.465736  3.688879  3.688879  3.688879  \n",
       "3  0.2879      0.75     0.0000  2.564949  3.465736  3.465736  3.465736  \n",
       "4  0.2879      0.75     0.0000  0.000000  2.564949  2.564949  2.564949  \n",
       "5  0.2576      0.75     0.0896  0.000000  0.000000  0.000000  0.000000  "
      ]
     },
     "execution_count": 15,
     "metadata": {},
     "output_type": "execute_result"
    }
   ],
   "source": [
    "#drop 'nan values'\n",
    "bikes_prep_lag = bikes_prep_lag.dropna()\n",
    "bikes_prep_lag.head()"
   ]
  },
  {
   "cell_type": "markdown",
   "metadata": {},
   "source": [
    "# Step 7 - Create Dummy Variables and drop first to avoid dummy variable trap using 'get_dummies'"
   ]
  },
  {
   "cell_type": "code",
   "execution_count": 16,
   "metadata": {},
   "outputs": [
    {
     "data": {
      "text/plain": [
       "season          int64\n",
       "year            int64\n",
       "month           int64\n",
       "hour            int64\n",
       "holiday         int64\n",
       "weekday         int64\n",
       "workingday      int64\n",
       "weather         int64\n",
       "temp          float64\n",
       "atemp         float64\n",
       "humidity      float64\n",
       "windspeed     float64\n",
       "demand        float64\n",
       "t-1           float64\n",
       "t-2           float64\n",
       "t-3           float64\n",
       "dtype: object"
      ]
     },
     "execution_count": 16,
     "metadata": {},
     "output_type": "execute_result"
    }
   ],
   "source": [
    "#Check what type the data, we need to make sure it is in category type\n",
    "bikes_prep_lag.dtypes"
   ]
  },
  {
   "cell_type": "code",
   "execution_count": 17,
   "metadata": {},
   "outputs": [],
   "source": [
    "#convert the data to category type using 'astype'function\n",
    "bikes_prep_lag['season'] = bikes_prep_lag['season'].astype('category')\n",
    "bikes_prep_lag['holiday'] = bikes_prep_lag['holiday'].astype('category')\n",
    "bikes_prep_lag['weather'] = bikes_prep_lag['weather'].astype('category')\n",
    "bikes_prep_lag['month'] = bikes_prep_lag['month'].astype('category')\n",
    "bikes_prep_lag['hour'] = bikes_prep_lag['hour'].astype('category')\n",
    "\n",
    "bikes_prep_lag = pd.get_dummies(bikes_prep_lag, drop_first = True)"
   ]
  },
  {
   "cell_type": "code",
   "execution_count": 19,
   "metadata": {},
   "outputs": [
    {
     "data": {
      "text/html": [
       "<div>\n",
       "<style scoped>\n",
       "    .dataframe tbody tr th:only-of-type {\n",
       "        vertical-align: middle;\n",
       "    }\n",
       "\n",
       "    .dataframe tbody tr th {\n",
       "        vertical-align: top;\n",
       "    }\n",
       "\n",
       "    .dataframe thead th {\n",
       "        text-align: right;\n",
       "    }\n",
       "</style>\n",
       "<table border=\"1\" class=\"dataframe\">\n",
       "  <thead>\n",
       "    <tr style=\"text-align: right;\">\n",
       "      <th></th>\n",
       "      <th>year</th>\n",
       "      <th>weekday</th>\n",
       "      <th>workingday</th>\n",
       "      <th>temp</th>\n",
       "      <th>atemp</th>\n",
       "      <th>humidity</th>\n",
       "      <th>windspeed</th>\n",
       "      <th>demand</th>\n",
       "      <th>t-1</th>\n",
       "      <th>t-2</th>\n",
       "      <th>...</th>\n",
       "      <th>hour_18</th>\n",
       "      <th>hour_19</th>\n",
       "      <th>hour_20</th>\n",
       "      <th>hour_21</th>\n",
       "      <th>hour_22</th>\n",
       "      <th>hour_23</th>\n",
       "      <th>holiday_1</th>\n",
       "      <th>weather_2</th>\n",
       "      <th>weather_3</th>\n",
       "      <th>weather_4</th>\n",
       "    </tr>\n",
       "  </thead>\n",
       "  <tbody>\n",
       "    <tr>\n",
       "      <th>1</th>\n",
       "      <td>0</td>\n",
       "      <td>6</td>\n",
       "      <td>0</td>\n",
       "      <td>0.22</td>\n",
       "      <td>0.2727</td>\n",
       "      <td>0.80</td>\n",
       "      <td>0.0000</td>\n",
       "      <td>3.688879</td>\n",
       "      <td>2.772589</td>\n",
       "      <td>2.772589</td>\n",
       "      <td>...</td>\n",
       "      <td>0</td>\n",
       "      <td>0</td>\n",
       "      <td>0</td>\n",
       "      <td>0</td>\n",
       "      <td>0</td>\n",
       "      <td>0</td>\n",
       "      <td>0</td>\n",
       "      <td>0</td>\n",
       "      <td>0</td>\n",
       "      <td>0</td>\n",
       "    </tr>\n",
       "    <tr>\n",
       "      <th>2</th>\n",
       "      <td>0</td>\n",
       "      <td>6</td>\n",
       "      <td>0</td>\n",
       "      <td>0.22</td>\n",
       "      <td>0.2727</td>\n",
       "      <td>0.80</td>\n",
       "      <td>0.0000</td>\n",
       "      <td>3.465736</td>\n",
       "      <td>3.688879</td>\n",
       "      <td>3.688879</td>\n",
       "      <td>...</td>\n",
       "      <td>0</td>\n",
       "      <td>0</td>\n",
       "      <td>0</td>\n",
       "      <td>0</td>\n",
       "      <td>0</td>\n",
       "      <td>0</td>\n",
       "      <td>0</td>\n",
       "      <td>0</td>\n",
       "      <td>0</td>\n",
       "      <td>0</td>\n",
       "    </tr>\n",
       "    <tr>\n",
       "      <th>3</th>\n",
       "      <td>0</td>\n",
       "      <td>6</td>\n",
       "      <td>0</td>\n",
       "      <td>0.24</td>\n",
       "      <td>0.2879</td>\n",
       "      <td>0.75</td>\n",
       "      <td>0.0000</td>\n",
       "      <td>2.564949</td>\n",
       "      <td>3.465736</td>\n",
       "      <td>3.465736</td>\n",
       "      <td>...</td>\n",
       "      <td>0</td>\n",
       "      <td>0</td>\n",
       "      <td>0</td>\n",
       "      <td>0</td>\n",
       "      <td>0</td>\n",
       "      <td>0</td>\n",
       "      <td>0</td>\n",
       "      <td>0</td>\n",
       "      <td>0</td>\n",
       "      <td>0</td>\n",
       "    </tr>\n",
       "    <tr>\n",
       "      <th>4</th>\n",
       "      <td>0</td>\n",
       "      <td>6</td>\n",
       "      <td>0</td>\n",
       "      <td>0.24</td>\n",
       "      <td>0.2879</td>\n",
       "      <td>0.75</td>\n",
       "      <td>0.0000</td>\n",
       "      <td>0.000000</td>\n",
       "      <td>2.564949</td>\n",
       "      <td>2.564949</td>\n",
       "      <td>...</td>\n",
       "      <td>0</td>\n",
       "      <td>0</td>\n",
       "      <td>0</td>\n",
       "      <td>0</td>\n",
       "      <td>0</td>\n",
       "      <td>0</td>\n",
       "      <td>0</td>\n",
       "      <td>0</td>\n",
       "      <td>0</td>\n",
       "      <td>0</td>\n",
       "    </tr>\n",
       "    <tr>\n",
       "      <th>5</th>\n",
       "      <td>0</td>\n",
       "      <td>6</td>\n",
       "      <td>0</td>\n",
       "      <td>0.24</td>\n",
       "      <td>0.2576</td>\n",
       "      <td>0.75</td>\n",
       "      <td>0.0896</td>\n",
       "      <td>0.000000</td>\n",
       "      <td>0.000000</td>\n",
       "      <td>0.000000</td>\n",
       "      <td>...</td>\n",
       "      <td>0</td>\n",
       "      <td>0</td>\n",
       "      <td>0</td>\n",
       "      <td>0</td>\n",
       "      <td>0</td>\n",
       "      <td>0</td>\n",
       "      <td>0</td>\n",
       "      <td>1</td>\n",
       "      <td>0</td>\n",
       "      <td>0</td>\n",
       "    </tr>\n",
       "  </tbody>\n",
       "</table>\n",
       "<p>5 rows × 52 columns</p>\n",
       "</div>"
      ],
      "text/plain": [
       "   year  weekday  workingday  temp   atemp  humidity  windspeed    demand  \\\n",
       "1     0        6           0  0.22  0.2727      0.80     0.0000  3.688879   \n",
       "2     0        6           0  0.22  0.2727      0.80     0.0000  3.465736   \n",
       "3     0        6           0  0.24  0.2879      0.75     0.0000  2.564949   \n",
       "4     0        6           0  0.24  0.2879      0.75     0.0000  0.000000   \n",
       "5     0        6           0  0.24  0.2576      0.75     0.0896  0.000000   \n",
       "\n",
       "        t-1       t-2  ...  hour_18  hour_19  hour_20  hour_21  hour_22  \\\n",
       "1  2.772589  2.772589  ...        0        0        0        0        0   \n",
       "2  3.688879  3.688879  ...        0        0        0        0        0   \n",
       "3  3.465736  3.465736  ...        0        0        0        0        0   \n",
       "4  2.564949  2.564949  ...        0        0        0        0        0   \n",
       "5  0.000000  0.000000  ...        0        0        0        0        0   \n",
       "\n",
       "   hour_23  holiday_1  weather_2  weather_3  weather_4  \n",
       "1        0          0          0          0          0  \n",
       "2        0          0          0          0          0  \n",
       "3        0          0          0          0          0  \n",
       "4        0          0          0          0          0  \n",
       "5        0          0          1          0          0  \n",
       "\n",
       "[5 rows x 52 columns]"
      ]
     },
     "execution_count": 19,
     "metadata": {},
     "output_type": "execute_result"
    }
   ],
   "source": [
    "bikes_prep_lag.head()"
   ]
  },
  {
   "cell_type": "markdown",
   "metadata": {},
   "source": [
    "# Step 8 - Create train and test split"
   ]
  },
  {
   "cell_type": "markdown",
   "metadata": {},
   "source": [
    "Because our feature demand is of time series data which has autocorrelation, we split the data by the beginning data and the ending data\n",
    "\n",
    "demand is time dependent or time series"
   ]
  },
  {
   "cell_type": "code",
   "execution_count": 25,
   "metadata": {},
   "outputs": [],
   "source": [
    "#Split the X and Y dataset into training and testing set\n",
    "Y = bikes_prep_lag[['demand']]\n",
    "X = bikes_prep_lag.drop(['demand'], axis = 1)"
   ]
  },
  {
   "cell_type": "code",
   "execution_count": 29,
   "metadata": {},
   "outputs": [
    {
     "data": {
      "text/plain": [
       "12164"
      ]
     },
     "execution_count": 29,
     "metadata": {},
     "output_type": "execute_result"
    }
   ],
   "source": [
    "#Create the training set\n",
    "\n",
    "#Creat the size for 70% of the data\n",
    "tr_size = 0.7 * len(X)\n",
    "tr_size= int(tr_size)\n",
    "tr_size"
   ]
  },
  {
   "cell_type": "code",
   "execution_count": 30,
   "metadata": {},
   "outputs": [],
   "source": [
    "#Create the train and the test using the tr_size\n",
    "X_train = X.values[0: tr_size]\n",
    "X_test = X.values[tr_size: len(X)]\n",
    "\n",
    "Y_train = Y.values[0 : tr_size]\n",
    "Y_test = Y.values[tr_size : len(Y)]"
   ]
  },
  {
   "cell_type": "markdown",
   "metadata": {},
   "source": [
    "# Step 9 - Fit and Score the model"
   ]
  },
  {
   "cell_type": "code",
   "execution_count": 33,
   "metadata": {},
   "outputs": [],
   "source": [
    "#import Linear Regression\n",
    "from sklearn.linear_model import LinearRegression"
   ]
  },
  {
   "cell_type": "code",
   "execution_count": 34,
   "metadata": {},
   "outputs": [],
   "source": [
    "std_reg = LinearRegression()\n",
    "std_reg.fit(X_train, Y_train)\n",
    "#calculate the r-squared values\n",
    "r2_train = std_reg.score(X_train, Y_train)\n",
    "r2_test = std_reg.score(X_test, Y_test)\n",
    "\n",
    "#Create Y predictions\n",
    "Y_predict = std_reg.predict(X_test)\n"
   ]
  },
  {
   "cell_type": "code",
   "execution_count": 36,
   "metadata": {},
   "outputs": [
    {
     "data": {
      "text/plain": [
       "0.3905615829462639"
      ]
     },
     "execution_count": 36,
     "metadata": {},
     "output_type": "execute_result"
    }
   ],
   "source": [
    "from sklearn.metrics import mean_squared_error\n",
    "#calculate the rmse\n",
    "rmse = math.sqrt(mean_squared_error(Y_test, Y_predict))\n",
    "rmse"
   ]
  },
  {
   "cell_type": "code",
   "execution_count": 37,
   "metadata": {},
   "outputs": [
    {
     "name": "stdout",
     "output_type": "stream",
     "text": [
      "r2_train is:  0.9127646440581111\n",
      "r2_test is:  0.9250778171039227\n",
      "the rmse is:  0.3905615829462639\n"
     ]
    }
   ],
   "source": [
    "\n",
    "print('r2_train is: ', r2_train)\n",
    "print('r2_test is: ', r2_test)\n",
    "print('the rmse is: ', rmse)"
   ]
  },
  {
   "cell_type": "markdown",
   "metadata": {},
   "source": [
    "We have a high r-squared value and a relatively low rmse, which means our model is accurate"
   ]
  },
  {
   "cell_type": "markdown",
   "metadata": {},
   "source": [
    "# Final Step - Run RMSLE and compare results"
   ]
  },
  {
   "cell_type": "code",
   "execution_count": 42,
   "metadata": {},
   "outputs": [],
   "source": [
    "Y_test_e = []\n",
    "Y_predict_e = []\n",
    "for i in range(0, len(Y_test)):\n",
    "    Y_test_e.append(math.exp(Y_test[i]))\n",
    "    Y_predict_e.append(math.exp(Y_predict[i]))"
   ]
  },
  {
   "cell_type": "code",
   "execution_count": 43,
   "metadata": {},
   "outputs": [
    {
     "name": "stdout",
     "output_type": "stream",
     "text": [
      "0.3668065831952628\n"
     ]
    }
   ],
   "source": [
    "#Do the sum of the logs and squares\n",
    "log_sq_sum = 0\n",
    "for i in range (0, len(Y_test_e)):\n",
    "    log_a = math.log(Y_test_e[i] + 1)\n",
    "    log_p = math.log(Y_predict_e[i] + 1)\n",
    "    log_diff = (log_p - log_a) **2\n",
    "    log_sq_sum = log_sq_sum + log_diff\n",
    "rmsle = math.sqrt(log_sq_sum/len(Y_test))\n",
    "\n",
    "print(rmsle)"
   ]
  },
  {
   "cell_type": "code",
   "execution_count": null,
   "metadata": {},
   "outputs": [],
   "source": []
  }
 ],
 "metadata": {
  "kernelspec": {
   "display_name": "Python 3",
   "language": "python",
   "name": "python3"
  },
  "language_info": {
   "codemirror_mode": {
    "name": "ipython",
    "version": 3
   },
   "file_extension": ".py",
   "mimetype": "text/x-python",
   "name": "python",
   "nbconvert_exporter": "python",
   "pygments_lexer": "ipython3",
   "version": "3.8.5"
  }
 },
 "nbformat": 4,
 "nbformat_minor": 4
}
